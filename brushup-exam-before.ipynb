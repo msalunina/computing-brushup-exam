{
 "cells": [
  {
   "cell_type": "code",
   "execution_count": 2,
   "metadata": {
    "autoscroll": false,
    "ein.tags": "worksheet-0",
    "slideshow": {
     "slide_type": "-"
    }
   },
   "outputs": [],
   "source": [
    "%load_ext rpy2.ipython"
   ]
  },
  {
   "cell_type": "markdown",
   "metadata": {
    "ein.tags": "worksheet-0",
    "slideshow": {
     "slide_type": "-"
    }
   },
   "source": [
    "# Problem 1: The Command Line\n",
    "\n",
    "SSH into your instance. \n",
    "\n",
    "You will find a file located at $HOME/not-your-folder/2018_padro_nacionalitat_per_sexe.csv \n",
    "* find a link in web\n",
    "* cd folder\n",
    "* wget link\n",
    "\n",
    "Your job is to create a new folder at $HOME/this-is-the-one, and move the csv file into that new folder"
   ]
  },
  {
   "cell_type": "markdown",
   "metadata": {
    "ein.tags": "worksheet-0",
    "slideshow": {
     "slide_type": "-"
    }
   },
   "source": [
    "# Problem 2: Plotting in R"
   ]
  },
  {
   "cell_type": "code",
   "execution_count": 6,
   "metadata": {
    "autoscroll": false,
    "ein.tags": "worksheet-0",
    "slideshow": {
     "slide_type": "-"
    }
   },
   "outputs": [],
   "source": [
    "%%R\n",
    "\n",
    "library(tidyverse)"
   ]
  },
  {
   "cell_type": "code",
   "execution_count": 7,
   "metadata": {
    "autoscroll": false,
    "ein.tags": "worksheet-0",
    "slideshow": {
     "slide_type": "-"
    }
   },
   "outputs": [
    {
     "data": {
      "text/plain": [
       "Observations: 7,446\n",
       "Variables: 8\n",
       "$ Any            <dbl> 2018, 2018, 2018, 2018, 2018, 2018, 2018, 2018, 2018, …\n",
       "$ Codi_Districte <dbl> 1, 1, 1, 1, 2, 2, 2, 2, 2, 2, 3, 3, 3, 3, 3, 3, 3, 3, …\n",
       "$ Nom_Districte  <chr> \"Ciutat Vella\", \"Ciutat Vella\", \"Ciutat Vella\", \"Ciuta…\n",
       "$ Codi_Barri     <dbl> 1, 2, 3, 4, 5, 6, 7, 8, 9, 10, 11, 12, 13, 14, 15, 16,…\n",
       "$ Nom_Barri      <chr> \"el Raval\", \"el Barri Gòtic\", \"la Barceloneta\", \"Sant …\n",
       "$ Sexe           <chr> \"Home\", \"Home\", \"Home\", \"Home\", \"Home\", \"Home\", \"Home\"…\n",
       "$ Nacionalitat   <chr> \"Espanya\", \"Espanya\", \"Espanya\", \"Espanya\", \"Espanya\",…\n",
       "$ Nombre         <dbl> 11732, 4214, 4607, 6235, 11532, 18692, 15761, 15241, 2…\n"
      ]
     },
     "metadata": {},
     "output_type": "display_data"
    }
   ],
   "source": [
    "%%R\n",
    "\n",
    "# Read the file '2018_padro_nacionalitat_per_sexe.csv' from the new location, using read_csv\n",
    "# put the resulting Tibble into a variable called 'barris'\n",
    "\n",
    "barris <- read_csv('2018_padro_nacionalitat_per_sexe.csv')\n",
    "glimpse(barris)"
   ]
  },
  {
   "cell_type": "code",
   "execution_count": 72,
   "metadata": {
    "autoscroll": false,
    "ein.tags": "worksheet-0",
    "slideshow": {
     "slide_type": "-"
    }
   },
   "outputs": [
    {
     "data": {
      "image/png": "[encoded data removed]"
     },
     "metadata": {},
     "output_type": "display_data"
    }
   ],
   "source": [
    "%%R\n",
    "\n",
    "# Let's manually convert a few columns into factors. \n",
    "barris %>% mutate(Nom_Barri = parse_factor(Nom_Barri, NULL), \n",
    "                  Sexe = parse_factor(Sexe, NULL),\n",
    "                  Nacionalitat = parse_factor(Nacionalitat, NULL))\n",
    "\n",
    "# We want to explore the neighborhood referred to as 'el Poblenou', in the variable\n",
    "# 'Nom_Barri' (neighborhood name). We will take a look at the gender and nationality\n",
    "# of the non-Spanish population in this neighborhood. \n",
    "#\n",
    "# First, filter the data to only 'el Poblenou'\n",
    "# Second, remove the nationality 'Espanya'\n",
    "# Third, plot a horizontal bar chart of the population counted by 'Nacionalitat',\n",
    "# but only plot the most populous nationalities. Set a cutoff that looks right to you. \n",
    "#\n",
    "# Note: the number of each 'Sexe'/'Nacionalitat' combo is in the variable 'Nombre'\n",
    "# \n",
    "# Hint: group and count manually, and then use ggplot's geom_col and use coord_flip()\n",
    "# to make the chart horizontal\n",
    "#\n",
    "# Bonus: Display the gender ('Sexe') in different colors, via the \"fill\" property!\n",
    "\n",
    "data_for_plot <- barris %>%\n",
    "                    filter(Nom_Barri=='el Poblenou', Nacionalitat!='Espanya') %>%\n",
    "                    group_by(Nacionalitat) %>%\n",
    "                    mutate(total_num = sum(Nombre)) %>%\n",
    "                    ungroup() %>%\n",
    "                    group_by(Nacionalitat, Sexe) %>%\n",
    "                    mutate(sex_num = sum(Nombre)) %>%\n",
    "                    filter(total_num > 150)\n",
    "\n",
    "ggplot(data_for_plot, aes(x = reorder(Nacionalitat, sex_num), y = sex_num, fill=Sexe)) +\n",
    "    geom_col() +\n",
    "    coord_flip()"
   ]
  },
  {
   "cell_type": "markdown",
   "metadata": {
    "ein.tags": "worksheet-0",
    "slideshow": {
     "slide_type": "-"
    }
   },
   "source": [
    "# Problem 3: Classes in Python"
   ]
  },
  {
   "cell_type": "code",
   "execution_count": 65,
   "metadata": {
    "autoscroll": false,
    "ein.tags": "worksheet-0",
    "slideshow": {
     "slide_type": "-"
    }
   },
   "outputs": [],
   "source": [
    "# Create a class called \"RandomClassifier\". \n",
    "\n",
    "# It's constructor should have one required parameter: 'probability'\n",
    "\n",
    "# It should have one instance method, 'predict'\n",
    "\n",
    "# The predict method should take one required parameter: 'x'\n",
    "\n",
    "# The predict method should then randomly return a 1 or 0. It should return a 1\n",
    "# with the probability given in the parameter\n",
    "\n",
    "# The following cell has a test that should pass if you've done it correctly!\n",
    "\n",
    "class RandomClassifier():\n",
    "    def __init__(self, probability):\n",
    "        self.probability = probability\n",
    "        self.x = None\n",
    "    \n",
    "    def predict(self, x):\n",
    "        self.x = x\n",
    "        return np.random.binomial(1, self.probability)"
   ]
  },
  {
   "cell_type": "code",
   "execution_count": 66,
   "metadata": {
    "autoscroll": false,
    "ein.tags": "worksheet-0",
    "slideshow": {
     "slide_type": "-"
    }
   },
   "outputs": [],
   "source": [
    "import numpy as np\n",
    "\n",
    "r = RandomClassifier(probability = .2)\n",
    "m = np.mean([r.predict(x = i) for i in np.arange(100000)])\n",
    "\n",
    "np.testing.assert_approx_equal(m, 0.2, 2)"
   ]
  },
  {
   "cell_type": "markdown",
   "metadata": {
    "ein.tags": "worksheet-0",
    "slideshow": {
     "slide_type": "-"
    }
   },
   "source": [
    "# Problem 4: Some Theory"
   ]
  },
  {
   "cell_type": "markdown",
   "metadata": {
    "ein.tags": "worksheet-0",
    "slideshow": {
     "slide_type": "-"
    }
   },
   "source": [
    "### What are pure functions and what are their strengths? (2-3 lines)"
   ]
  },
  {
   "cell_type": "markdown",
   "metadata": {
    "ein.tags": "worksheet-0",
    "slideshow": {
     "slide_type": "-"
    }
   },
   "source": [
    "[Pure function - Wikipedia](https://en.wikipedia.org/wiki/Pure_function)\n",
    "\n",
    "\n",
    "In computer programming, a pure function is a function that has the following properties:\n",
    "\n",
    "* Its return value is the same for the same arguments (no variation with local static variables, non-local variables, mutable reference arguments or input streams from I/O devices).\n",
    "* Its evaluation has no side effects (no mutation of local static variables, non-local variables, mutable reference arguments or I/O streams).\n",
    "\n",
    "<br>\n",
    "\n",
    "[Benefits of pure functions](https://alvinalexander.com/scala/fp-book/benefits-of-pure-functions)\n",
    "* They’re easier to reason about\n",
    "* They’re easier to combine\n",
    "* They’re easier to test\n",
    "* They’re easier to debug\n",
    "* They’re easier to parallelize\n",
    "* They are idempotent\n",
    "* They offer referential transparency\n",
    "* They are memoizable\n",
    "* They can be lazy"
   ]
  },
  {
   "cell_type": "markdown",
   "metadata": {
    "ein.tags": "worksheet-0",
    "slideshow": {
     "slide_type": "-"
    }
   },
   "source": [
    "### What is lazy evaluation and when might you use it? (2-3 lines)"
   ]
  },
  {
   "cell_type": "markdown",
   "metadata": {
    "ein.tags": "worksheet-0",
    "slideshow": {
     "slide_type": "-"
    }
   },
   "source": [
    "[Lazy evaluation - Wikipedia](https://en.wikipedia.org/wiki/Lazy_evaluation)\n",
    "\n",
    "In programming language theory, lazy evaluation, or call-by-need is an evaluation strategy which delays the evaluation of an expression until its value is needed (non-strict evaluation) and which also avoids repeated evaluations (sharing). The sharing can reduce the running time of certain functions by an exponential factor over other non-strict evaluation strategies, such as call-by-name.\n",
    "\n",
    "However, for lengthy operations, it would be more appropriate to perform before any time-sensitive operations, such as handling user inputs in a video game.\n",
    "\n",
    "The **benefits** of lazy evaluation include:\n",
    "\n",
    "* The ability to define control flow (structures) as abstractions instead of primitives.\n",
    "* The ability to define potentially infinite data structures. This allows for more straightforward implementation of some algorithms.\n",
    "* Performance increases by avoiding needless calculations, and avoiding error conditions when evaluating compound expressions.\n",
    "\n",
    "\n",
    "**Applications** of lazy evaluation include:\n",
    "* Control structures\n",
    "* Working with infinite data structures\n",
    "* List-of-successes pattern\n",
    "* Avoiding excessive effort\n",
    "* Avoidance of error conditions\n",
    "* Other uses"
   ]
  }
 ],
 "metadata": {
  "kernelspec": {
   "display_name": "Python 3",
   "language": "python",
   "name": "python3"
  },
  "language_info": {
   "codemirror_mode": {
    "name": "ipython",
    "version": 3
   },
   "file_extension": ".py",
   "mimetype": "text/x-python",
   "name": "python",
   "nbconvert_exporter": "python",
   "pygments_lexer": "ipython3",
   "version": "3.7.3"
  },
  "name": "exam.ipynb"
 },
 "nbformat": 4,
 "nbformat_minor": 2
}
